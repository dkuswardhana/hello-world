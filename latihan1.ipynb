{
  "nbformat": 4,
  "nbformat_minor": 0,
  "metadata": {
    "colab": {
      "name": "latihan1.ipynb",
      "provenance": [],
      "collapsed_sections": [],
      "authorship_tag": "ABX9TyNUiRotWhs8quR6OpHbj6AJ",
      "include_colab_link": true
    },
    "kernelspec": {
      "name": "python3",
      "display_name": "Python 3"
    }
  },
  "cells": [
    {
      "cell_type": "markdown",
      "metadata": {
        "id": "view-in-github",
        "colab_type": "text"
      },
      "source": [
        "<a href=\"https://colab.research.google.com/github/dkuswardhana/hello-world/blob/master/latihan1.ipynb\" target=\"_parent\"><img src=\"https://colab.research.google.com/assets/colab-badge.svg\" alt=\"Open In Colab\"/></a>"
      ]
    },
    {
      "cell_type": "code",
      "metadata": {
        "id": "ZFlK7HnanVu3",
        "colab": {
          "base_uri": "https://localhost:8080/"
        },
        "outputId": "e147307a-b396-4a5a-f309-1dc3101a8000"
      },
      "source": [
        "print(\"Dandhi\")"
      ],
      "execution_count": null,
      "outputs": [
        {
          "output_type": "stream",
          "text": [
            "Dandhi\n"
          ],
          "name": "stdout"
        }
      ]
    },
    {
      "cell_type": "code",
      "metadata": {
        "id": "fiBrYIZonqBO",
        "colab": {
          "base_uri": "https://localhost:8080/"
        },
        "outputId": "03e17462-a436-437f-bb6a-0fa4206a328e"
      },
      "source": [
        "print(\"Dandhi Kuswardhan\")"
      ],
      "execution_count": null,
      "outputs": [
        {
          "output_type": "stream",
          "text": [
            "Dandhi Kuswardhan\n"
          ],
          "name": "stdout"
        }
      ]
    },
    {
      "cell_type": "code",
      "metadata": {
        "id": "b4YQqZygo510",
        "colab": {
          "base_uri": "https://localhost:8080/"
        },
        "outputId": "f3547a78-cfcc-4c0d-adf4-fbe4d3b47274"
      },
      "source": [
        "n = 0\r\n",
        "for n in range (0,11):\r\n",
        "  print(\"Dandhi ke- \",n) "
      ],
      "execution_count": null,
      "outputs": [
        {
          "output_type": "stream",
          "text": [
            "Dandhi ke-  0\n",
            "Dandhi ke-  1\n",
            "Dandhi ke-  2\n",
            "Dandhi ke-  3\n",
            "Dandhi ke-  4\n",
            "Dandhi ke-  5\n",
            "Dandhi ke-  6\n",
            "Dandhi ke-  7\n",
            "Dandhi ke-  8\n",
            "Dandhi ke-  9\n",
            "Dandhi ke-  10\n"
          ],
          "name": "stdout"
        }
      ]
    },
    {
      "cell_type": "code",
      "metadata": {
        "id": "9zV_hWvTvQ3V",
        "colab": {
          "base_uri": "https://localhost:8080/"
        },
        "outputId": "acd62a57-a3f7-4eda-9b47-6b8a35a3dce6"
      },
      "source": [
        "m = 0\r\n",
        "while m <= 10:\r\n",
        "  print(\"Dandhi ke-\", m)\r\n",
        "  m += 1"
      ],
      "execution_count": null,
      "outputs": [
        {
          "output_type": "stream",
          "text": [
            "Dandhi ke- 0\n",
            "Dandhi ke- 1\n",
            "Dandhi ke- 2\n",
            "Dandhi ke- 3\n",
            "Dandhi ke- 4\n",
            "Dandhi ke- 5\n",
            "Dandhi ke- 6\n",
            "Dandhi ke- 7\n",
            "Dandhi ke- 8\n",
            "Dandhi ke- 9\n",
            "Dandhi ke- 10\n"
          ],
          "name": "stdout"
        }
      ]
    },
    {
      "cell_type": "code",
      "metadata": {
        "id": "XyUtrGG4wCh8",
        "colab": {
          "base_uri": "https://localhost:8080/"
        },
        "outputId": "1b2b4d6d-c455-46be-c490-3a77c873ffc5"
      },
      "source": [
        "a = 9\r\n",
        "if a <= 2:\r\n",
        "  print(\"kelas rendah\")\r\n",
        "elif 3 <= a <= 8:\r\n",
        "  print(\"kelas menengah\")\r\n",
        "else: \r\n",
        "  print(\"Kelas ATas\")"
      ],
      "execution_count": null,
      "outputs": [
        {
          "output_type": "stream",
          "text": [
            "Kelas ATas\n"
          ],
          "name": "stdout"
        }
      ]
    },
    {
      "cell_type": "code",
      "metadata": {
        "colab": {
          "base_uri": "https://localhost:8080/"
        },
        "cellView": "code",
        "id": "0q3Xli1exTSw",
        "outputId": "2a39088c-3e41-47e0-dc25-5c0bed603a42"
      },
      "source": [
        "#@title Default title text\n",
        "k = 1 ; s = 0\n",
        "j = 4\n",
        "y = 0\n",
        "while k < j:\n",
        "  y = 1/k\n",
        "  s += y\n",
        "  k = k+1\n",
        "print(s)"
      ],
      "execution_count": null,
      "outputs": [
        {
          "output_type": "stream",
          "text": [
            "1.8333333333333333\n"
          ],
          "name": "stdout"
        }
      ]
    },
    {
      "cell_type": "code",
      "metadata": {
        "id": "4ZcaZ-Kj_TZd",
        "colab": {
          "base_uri": "https://localhost:8080/"
        },
        "outputId": "85fc534b-9626-41c9-8109-6a0a663586f2"
      },
      "source": [
        "def getAnswer(AnswerNumber):\r\n",
        "  if AnswerNumber == 1:\r\n",
        "    return(\"Champion\")\r\n",
        "  elif AnswerNumber == 2:\r\n",
        "    return('Second')\r\n",
        "  else:\r\n",
        "    return (\"Ordinary\")\r\n",
        "\r\n",
        "print(getAnswer(1)) "
      ],
      "execution_count": 2,
      "outputs": [
        {
          "output_type": "stream",
          "text": [
            "Champion\n"
          ],
          "name": "stdout"
        }
      ]
    },
    {
      "cell_type": "code",
      "metadata": {
        "id": "geae6aDwWTZx"
      },
      "source": [
        "name = ''\r\n",
        "while (True):\r\n",
        "  print('Put your name please!')\r\n",
        "  name = input()\r\n",
        "  if name != 'Dandhi':\r\n",
        "    continue\r\n",
        "  print('Dandhi Put your password Please!!')\r\n",
        "  passwd = input()\r\n",
        "  if passwd == 'kuswardhana':\r\n",
        "    break\r\n",
        "  print('Thank you!!')\r\n",
        "print('Your access has been Grandted')\r\n",
        "\r\n"
      ],
      "execution_count": null,
      "outputs": []
    },
    {
      "cell_type": "code",
      "metadata": {
        "id": "F4zFY5ZHYFdB",
        "colab": {
          "base_uri": "https://localhost:8080/"
        },
        "outputId": "bba31bd8-7bfb-4f36-81de-138a5053b3a2"
      },
      "source": [
        "for val in \"string\":\r\n",
        "  if val == 'i':\r\n",
        "    break  \r\n",
        "  print(val)\r\n",
        "print('the end')\r\n",
        "\r\n"
      ],
      "execution_count": 4,
      "outputs": [
        {
          "output_type": "stream",
          "text": [
            "s\n",
            "t\n",
            "r\n",
            "the end\n"
          ],
          "name": "stdout"
        }
      ]
    },
    {
      "cell_type": "code",
      "metadata": {
        "colab": {
          "base_uri": "https://localhost:8080/"
        },
        "id": "M7CSzXTRW-JI",
        "outputId": "397572a1-ca65-4495-dd1a-979c24bb0d9b"
      },
      "source": [
        "for val in 'dandhi':\r\n",
        "  if val =='n':\r\n",
        "    continue\r\n",
        "  print(val)\r\n",
        "\r\n",
        "print('the end')"
      ],
      "execution_count": 5,
      "outputs": [
        {
          "output_type": "stream",
          "text": [
            "d\n",
            "a\n",
            "d\n",
            "h\n",
            "i\n",
            "the end\n"
          ],
          "name": "stdout"
        }
      ]
    },
    {
      "cell_type": "code",
      "metadata": {
        "id": "mV6i0Jhq7GS_"
      },
      "source": [
        "import tensorflow\r\n",
        "%load_ext tensorflow\r\n",
        "%tensorboard --logdir log\r\n"
      ],
      "execution_count": null,
      "outputs": []
    },
    {
      "cell_type": "code",
      "metadata": {
        "id": "53alrB9t9w0Y"
      },
      "source": [
        "def inputData(a,b):\r\n",
        "  a = float(input(\"Masukan nilai a: \"))\r\n",
        "  b = float(input(\"Masukan nilai b: \"))\r\n",
        "  return (a,b)\r\n",
        "\r\n",
        "def f(x):\r\n",
        "  return (x**3-(3*x)-5)\r\n",
        "\r\n",
        "def checkAB(a,b):\r\n",
        "  if f(a)*f(b) < 0:\r\n",
        "    return True\r\n",
        "  else:\r\n",
        "    return False\r\n",
        "\r\n",
        "def updateData(a,b):\r\n",
        "  c = (a + b)/2\r\n",
        "  if f(a)*f(c) < 0:\r\n",
        "    a = c\r\n",
        "  else:\r\n",
        "    b = c\r\n",
        "  return (a,b)\r\n",
        "\r\n",
        "def proces(a,b):\r\n",
        "  \r\n",
        "\r\n",
        "\r\n"
      ],
      "execution_count": null,
      "outputs": []
    },
    {
      "cell_type": "code",
      "metadata": {
        "colab": {
          "base_uri": "https://localhost:8080/",
          "height": 610
        },
        "id": "bjRmVngtJOky",
        "outputId": "192b60e9-4361-4395-8843-98811e79efdc"
      },
      "source": [
        "import matplotlib.pyplot as plt\r\n",
        "\r\n",
        "def a(x):\r\n",
        "  return 0.5*x + 3\r\n",
        "\r\n",
        "def b(x):\r\n",
        "  return sin(x)\r\n",
        "\r\n",
        "plt.plot([a,b], -10,10)\r\n",
        "plt.show() "
      ],
      "execution_count": 1,
      "outputs": [
        {
          "output_type": "error",
          "ename": "ValueError",
          "evalue": "ignored",
          "traceback": [
            "\u001b[0;31m---------------------------------------------------------------------------\u001b[0m",
            "\u001b[0;31mValueError\u001b[0m                                Traceback (most recent call last)",
            "\u001b[0;32m<ipython-input-1-f542da84c55f>\u001b[0m in \u001b[0;36m<module>\u001b[0;34m()\u001b[0m\n\u001b[1;32m      7\u001b[0m   \u001b[0;32mreturn\u001b[0m \u001b[0msin\u001b[0m\u001b[0;34m(\u001b[0m\u001b[0mx\u001b[0m\u001b[0;34m)\u001b[0m\u001b[0;34m\u001b[0m\u001b[0;34m\u001b[0m\u001b[0m\n\u001b[1;32m      8\u001b[0m \u001b[0;34m\u001b[0m\u001b[0m\n\u001b[0;32m----> 9\u001b[0;31m \u001b[0mplt\u001b[0m\u001b[0;34m.\u001b[0m\u001b[0mplot\u001b[0m\u001b[0;34m(\u001b[0m\u001b[0;34m[\u001b[0m\u001b[0ma\u001b[0m\u001b[0;34m,\u001b[0m\u001b[0mb\u001b[0m\u001b[0;34m]\u001b[0m\u001b[0;34m,\u001b[0m \u001b[0;34m-\u001b[0m\u001b[0;36m10\u001b[0m\u001b[0;34m,\u001b[0m\u001b[0;36m10\u001b[0m\u001b[0;34m)\u001b[0m\u001b[0;34m\u001b[0m\u001b[0;34m\u001b[0m\u001b[0m\n\u001b[0m\u001b[1;32m     10\u001b[0m \u001b[0mplt\u001b[0m\u001b[0;34m.\u001b[0m\u001b[0mshow\u001b[0m\u001b[0;34m(\u001b[0m\u001b[0;34m)\u001b[0m\u001b[0;34m\u001b[0m\u001b[0;34m\u001b[0m\u001b[0m\n",
            "\u001b[0;32m/usr/local/lib/python3.7/dist-packages/matplotlib/pyplot.py\u001b[0m in \u001b[0;36mplot\u001b[0;34m(scalex, scaley, data, *args, **kwargs)\u001b[0m\n\u001b[1;32m   2761\u001b[0m     return gca().plot(\n\u001b[1;32m   2762\u001b[0m         *args, scalex=scalex, scaley=scaley, **({\"data\": data} if data\n\u001b[0;32m-> 2763\u001b[0;31m         is not None else {}), **kwargs)\n\u001b[0m\u001b[1;32m   2764\u001b[0m \u001b[0;34m\u001b[0m\u001b[0m\n\u001b[1;32m   2765\u001b[0m \u001b[0;34m\u001b[0m\u001b[0m\n",
            "\u001b[0;32m/usr/local/lib/python3.7/dist-packages/matplotlib/axes/_axes.py\u001b[0m in \u001b[0;36mplot\u001b[0;34m(self, scalex, scaley, data, *args, **kwargs)\u001b[0m\n\u001b[1;32m   1645\u001b[0m         \"\"\"\n\u001b[1;32m   1646\u001b[0m         \u001b[0mkwargs\u001b[0m \u001b[0;34m=\u001b[0m \u001b[0mcbook\u001b[0m\u001b[0;34m.\u001b[0m\u001b[0mnormalize_kwargs\u001b[0m\u001b[0;34m(\u001b[0m\u001b[0mkwargs\u001b[0m\u001b[0;34m,\u001b[0m \u001b[0mmlines\u001b[0m\u001b[0;34m.\u001b[0m\u001b[0mLine2D\u001b[0m\u001b[0;34m)\u001b[0m\u001b[0;34m\u001b[0m\u001b[0;34m\u001b[0m\u001b[0m\n\u001b[0;32m-> 1647\u001b[0;31m         \u001b[0mlines\u001b[0m \u001b[0;34m=\u001b[0m \u001b[0;34m[\u001b[0m\u001b[0;34m*\u001b[0m\u001b[0mself\u001b[0m\u001b[0;34m.\u001b[0m\u001b[0m_get_lines\u001b[0m\u001b[0;34m(\u001b[0m\u001b[0;34m*\u001b[0m\u001b[0margs\u001b[0m\u001b[0;34m,\u001b[0m \u001b[0mdata\u001b[0m\u001b[0;34m=\u001b[0m\u001b[0mdata\u001b[0m\u001b[0;34m,\u001b[0m \u001b[0;34m**\u001b[0m\u001b[0mkwargs\u001b[0m\u001b[0;34m)\u001b[0m\u001b[0;34m]\u001b[0m\u001b[0;34m\u001b[0m\u001b[0;34m\u001b[0m\u001b[0m\n\u001b[0m\u001b[1;32m   1648\u001b[0m         \u001b[0;32mfor\u001b[0m \u001b[0mline\u001b[0m \u001b[0;32min\u001b[0m \u001b[0mlines\u001b[0m\u001b[0;34m:\u001b[0m\u001b[0;34m\u001b[0m\u001b[0;34m\u001b[0m\u001b[0m\n\u001b[1;32m   1649\u001b[0m             \u001b[0mself\u001b[0m\u001b[0;34m.\u001b[0m\u001b[0madd_line\u001b[0m\u001b[0;34m(\u001b[0m\u001b[0mline\u001b[0m\u001b[0;34m)\u001b[0m\u001b[0;34m\u001b[0m\u001b[0;34m\u001b[0m\u001b[0m\n",
            "\u001b[0;32m/usr/local/lib/python3.7/dist-packages/matplotlib/axes/_base.py\u001b[0m in \u001b[0;36m__call__\u001b[0;34m(self, *args, **kwargs)\u001b[0m\n\u001b[1;32m    214\u001b[0m                 \u001b[0mthis\u001b[0m \u001b[0;34m+=\u001b[0m \u001b[0margs\u001b[0m\u001b[0;34m[\u001b[0m\u001b[0;36m0\u001b[0m\u001b[0;34m]\u001b[0m\u001b[0;34m,\u001b[0m\u001b[0;34m\u001b[0m\u001b[0;34m\u001b[0m\u001b[0m\n\u001b[1;32m    215\u001b[0m                 \u001b[0margs\u001b[0m \u001b[0;34m=\u001b[0m \u001b[0margs\u001b[0m\u001b[0;34m[\u001b[0m\u001b[0;36m1\u001b[0m\u001b[0;34m:\u001b[0m\u001b[0;34m]\u001b[0m\u001b[0;34m\u001b[0m\u001b[0;34m\u001b[0m\u001b[0m\n\u001b[0;32m--> 216\u001b[0;31m             \u001b[0;32myield\u001b[0m \u001b[0;32mfrom\u001b[0m \u001b[0mself\u001b[0m\u001b[0;34m.\u001b[0m\u001b[0m_plot_args\u001b[0m\u001b[0;34m(\u001b[0m\u001b[0mthis\u001b[0m\u001b[0;34m,\u001b[0m \u001b[0mkwargs\u001b[0m\u001b[0;34m)\u001b[0m\u001b[0;34m\u001b[0m\u001b[0;34m\u001b[0m\u001b[0m\n\u001b[0m\u001b[1;32m    217\u001b[0m \u001b[0;34m\u001b[0m\u001b[0m\n\u001b[1;32m    218\u001b[0m     \u001b[0;32mdef\u001b[0m \u001b[0mget_next_color\u001b[0m\u001b[0;34m(\u001b[0m\u001b[0mself\u001b[0m\u001b[0;34m)\u001b[0m\u001b[0;34m:\u001b[0m\u001b[0;34m\u001b[0m\u001b[0;34m\u001b[0m\u001b[0m\n",
            "\u001b[0;32m/usr/local/lib/python3.7/dist-packages/matplotlib/axes/_base.py\u001b[0m in \u001b[0;36m_plot_args\u001b[0;34m(self, tup, kwargs)\u001b[0m\n\u001b[1;32m    340\u001b[0m \u001b[0;34m\u001b[0m\u001b[0m\n\u001b[1;32m    341\u001b[0m         \u001b[0;32mif\u001b[0m \u001b[0mx\u001b[0m\u001b[0;34m.\u001b[0m\u001b[0mshape\u001b[0m\u001b[0;34m[\u001b[0m\u001b[0;36m0\u001b[0m\u001b[0;34m]\u001b[0m \u001b[0;34m!=\u001b[0m \u001b[0my\u001b[0m\u001b[0;34m.\u001b[0m\u001b[0mshape\u001b[0m\u001b[0;34m[\u001b[0m\u001b[0;36m0\u001b[0m\u001b[0;34m]\u001b[0m\u001b[0;34m:\u001b[0m\u001b[0;34m\u001b[0m\u001b[0;34m\u001b[0m\u001b[0m\n\u001b[0;32m--> 342\u001b[0;31m             raise ValueError(f\"x and y must have same first dimension, but \"\n\u001b[0m\u001b[1;32m    343\u001b[0m                              f\"have shapes {x.shape} and {y.shape}\")\n\u001b[1;32m    344\u001b[0m         \u001b[0;32mif\u001b[0m \u001b[0mx\u001b[0m\u001b[0;34m.\u001b[0m\u001b[0mndim\u001b[0m \u001b[0;34m>\u001b[0m \u001b[0;36m2\u001b[0m \u001b[0;32mor\u001b[0m \u001b[0my\u001b[0m\u001b[0;34m.\u001b[0m\u001b[0mndim\u001b[0m \u001b[0;34m>\u001b[0m \u001b[0;36m2\u001b[0m\u001b[0;34m:\u001b[0m\u001b[0;34m\u001b[0m\u001b[0;34m\u001b[0m\u001b[0m\n",
            "\u001b[0;31mValueError\u001b[0m: x and y must have same first dimension, but have shapes (2,) and (1,)"
          ]
        },
        {
          "output_type": "display_data",
          "data": {
            "image/png": "[encoded data removed]",
            "text/plain": [
              "<Figure size 432x288 with 1 Axes>"
            ]
          },
          "metadata": {
            "tags": [],
            "needs_background": "light"
          }
        }
      ]
    },
    {
      "cell_type": "code",
      "metadata": {
        "colab": {
          "base_uri": "https://localhost:8080/"
        },
        "id": "woRjq2Cyx5yB",
        "outputId": "a67fbf6f-70e9-44b1-b73e-ef2009003dea"
      },
      "source": [
        "def multi_table(a):\r\n",
        "  for i in range(1,11):\r\n",
        "    print('{0} x {1} = {2} '.format(a, i, a*i))\r\n",
        "\r\n",
        "if __name__ == '__main__':\r\n",
        "  while True:\r\n",
        "    a = input('Enter a number =  ')\r\n",
        "    multi_table(float(a))\r\n",
        "\r\n",
        "    answer = input('Do you want to exit: y/n?')\r\n",
        "    if answer == 'y':\r\n",
        "      break\r\n",
        "\r\n",
        "  print('thank U')  "
      ],
      "execution_count": 5,
      "outputs": [
        {
          "output_type": "stream",
          "text": [
            "Enter a number =  2\n",
            "2.0 x 1 = 2.0 \n",
            "2.0 x 2 = 4.0 \n",
            "2.0 x 3 = 6.0 \n",
            "2.0 x 4 = 8.0 \n",
            "2.0 x 5 = 10.0 \n",
            "2.0 x 6 = 12.0 \n",
            "2.0 x 7 = 14.0 \n",
            "2.0 x 8 = 16.0 \n",
            "2.0 x 9 = 18.0 \n",
            "2.0 x 10 = 20.0 \n",
            "Do you want to exit: y/n?n\n",
            "Enter a number =  3\n",
            "3.0 x 1 = 3.0 \n",
            "3.0 x 2 = 6.0 \n",
            "3.0 x 3 = 9.0 \n",
            "3.0 x 4 = 12.0 \n",
            "3.0 x 5 = 15.0 \n",
            "3.0 x 6 = 18.0 \n",
            "3.0 x 7 = 21.0 \n",
            "3.0 x 8 = 24.0 \n",
            "3.0 x 9 = 27.0 \n",
            "3.0 x 10 = 30.0 \n",
            "Do you want to exit: y/n?y\n",
            "thank U\n"
          ],
          "name": "stdout"
        }
      ]
    },
    {
      "cell_type": "code",
      "metadata": {
        "colab": {
          "base_uri": "https://localhost:8080/"
        },
        "id": "6gr1xuKO2D2o",
        "outputId": "09f14dc6-ff1e-4f59-cb1e-de68b629e672"
      },
      "source": [
        "def fun():\r\n",
        "  print('I am in the end of loop')\r\n",
        "\r\n",
        "if __name__ == '__main__':\r\n",
        "  while True:\r\n",
        "    fun()\r\n",
        "    answer = input('do you want to exit?')\r\n",
        "    if answer == 'y':\r\n",
        "      break\r\n",
        "  print('Thank You')\r\n",
        "\r\n"
      ],
      "execution_count": 6,
      "outputs": [
        {
          "output_type": "stream",
          "text": [
            "I am in the end of loop\n",
            "do you want to exit?n\n",
            "I am in the end of loop\n",
            "do you want to exit?n\n",
            "I am in the end of loop\n",
            "do you want to exit?y\n",
            "Thank You\n"
          ],
          "name": "stdout"
        }
      ]
    },
    {
      "cell_type": "code",
      "metadata": {
        "colab": {
          "base_uri": "https://localhost:8080/"
        },
        "id": "iJGWQvwS4_HX",
        "outputId": "64e9df70-7c48-4724-90bc-73d52f5d7ad5"
      },
      "source": [
        "l = ['dandhi', 'KUswardhana']\r\n",
        "\r\n",
        "for index, item in enumerate(l):\r\n",
        "  print(index, item)\r\n"
      ],
      "execution_count": 8,
      "outputs": [
        {
          "output_type": "stream",
          "text": [
            "0 dandhi\n",
            "1 KUswardhana\n"
          ],
          "name": "stdout"
        }
      ]
    },
    {
      "cell_type": "code",
      "metadata": {
        "colab": {
          "base_uri": "https://localhost:8080/"
        },
        "id": "Sev3062U5p_Z",
        "outputId": "0d8ae1a2-9f7e-49db-c274-230cf8b925ca"
      },
      "source": [
        "UUs = [\"fadhil\", \"Farras\", \"Fajrin\"]\r\n",
        "CUs = []\r\n",
        "\r\n",
        "while UUs:\r\n",
        "  currentUser = UUs.pop()\r\n",
        "  print('Verifying user: '+ currentUser.title())\r\n",
        "  CUs.append(currentUser)\r\n",
        "\r\n",
        "print('the following user have been confirmed: ')\r\n",
        "for CU in CUs:\r\n",
        "  print(CU) "
      ],
      "execution_count": 11,
      "outputs": [
        {
          "output_type": "stream",
          "text": [
            "Verifying user: Fajrin\n",
            "Verifying user: Farras\n",
            "Verifying user: Fadhil\n",
            "the following user have been confirmed: \n",
            "Fajrin\n",
            "Farras\n",
            "fadhil\n"
          ],
          "name": "stdout"
        }
      ]
    }
  ]
}